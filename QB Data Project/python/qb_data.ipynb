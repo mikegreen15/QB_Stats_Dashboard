{
 "cells": [
  {
   "metadata": {},
   "cell_type": "markdown",
   "source": [
    "# ****DISCLAIMER****\n",
    "\n",
    "This dataset was acquired from a 3rd party source (Kaggle) and may contain inaccuracies or incomplete information."
   ],
   "id": "e466f9cba86208e9"
  },
  {
   "metadata": {},
   "cell_type": "markdown",
   "source": [
    "# **Step 1**\n",
    "\n",
    "Using Pandas, we will read in the rawdata CSV file. After reading it in, we will filter the data to include only the desired columns, ensuring we only grab the QB position and the years 2015-2024. Next, we will create new statistics to add to our cleaned-up dataset, which will then be exported as a CSV file into the cleandata folder."
   ],
   "id": "7fec017e45074f56"
  },
  {
   "metadata": {
    "ExecuteTime": {
     "end_time": "2025-09-08T20:31:28.764010Z",
     "start_time": "2025-09-08T20:31:28.498475Z"
    }
   },
   "cell_type": "code",
   "source": [
    "import pandas as pd\n",
    "#Using relative path read the raw nfl data\n",
    "nfl_data_set = pd.read_csv(\"../rawdata/yearly_player_stats_offense.csv\")"
   ],
   "id": "fbc121e30a2defb3",
   "outputs": [],
   "execution_count": 2
  },
  {
   "metadata": {
    "ExecuteTime": {
     "end_time": "2025-09-08T20:31:30.532371Z",
     "start_time": "2025-09-08T20:31:30.528113Z"
    }
   },
   "cell_type": "code",
   "source": [
    "#Sort the data to only acquire columns needed for this project\n",
    "#maybe look into adding playoffs\n",
    "qb_data_needed = [\"player_id\", \"player_name\", \"position\", \"season\", \"season_type\", \"team\", \"shotgun\",\n",
    "                  \"no_huddle\", \"qb_dropback\", \"qb_scramble\", \"pass_attempts\", \"complete_pass\",\n",
    "                  \"incomplete_pass\", \"passing_yards\", \"yards_after_catch\", \"rush_attempts\",\n",
    "                  \"rushing_yards\", \"first_down_pass\", \"first_down_rush\", \"third_down_converted\",\n",
    "                  \"third_down_failed\", \"fourth_down_converted\", \"fourth_down_failed\", \"rush_touchdown\",\n",
    "                  \"pass_touchdown\", \"interception\", \"fumble\", \"fumble_lost\", \"passing_air_yards\",\n",
    "                  \"pass_attempts_redzone\", \"complete_pass_redzone\", \"pass_touchdown_redzone\", \"pass_attempts_gtg\", \"complete_pass_gtg\",\n",
    "                  \"pass_touchdown_gtg\",\"rush_attempts_gtg\", \"rush_touchdown_gtg\",\"offense_snaps\", \"team_offense_snaps\", \"total_tds\", \"touches\",\n",
    "                  \"total_yards\", \"offense_pct\", \"games_played_season\" ]\n",
    "\n",
    "qb_data = nfl_data_set[qb_data_needed]"
   ],
   "id": "3fc7584d96ee77e4",
   "outputs": [],
   "execution_count": 3
  },
  {
   "metadata": {
    "ExecuteTime": {
     "end_time": "2025-09-08T20:31:32.661257Z",
     "start_time": "2025-09-08T20:31:32.657492Z"
    }
   },
   "cell_type": "code",
   "source": [
    "#Filter to only look at QB stats from 2015 to 2024\n",
    "qb_data = qb_data[(qb_data[\"position\"] == \"QB\")\n",
    "            & qb_data[\"season\"].between(2015,2024)]"
   ],
   "id": "5b34dd412054d072",
   "outputs": [],
   "execution_count": 4
  },
  {
   "metadata": {
    "ExecuteTime": {
     "end_time": "2025-09-08T20:31:33.901905Z",
     "start_time": "2025-09-08T20:31:33.899512Z"
    }
   },
   "cell_type": "code",
   "source": "qb_data.fillna(0, inplace=True)",
   "id": "44cd7055bf14db5",
   "outputs": [],
   "execution_count": 5
  },
  {
   "metadata": {
    "ExecuteTime": {
     "end_time": "2025-09-08T20:31:35.630671Z",
     "start_time": "2025-09-08T20:31:35.623984Z"
    }
   },
   "cell_type": "code",
   "source": [
    "#Create extra statistics for each qbs\n",
    "qb_data[\"completion_pct\"] = round((qb_data[\"complete_pass\"] / qb_data[\"pass_attempts\"]) * 100, 2)\n",
    "qb_data[\"td_to_int_ratio\"] = round(qb_data[\"pass_touchdown\"] / qb_data[\"interception\"], 2)\n",
    "qb_data[\"red_zone_comp_pct\"] = round(qb_data[\"complete_pass_redzone\"] / qb_data[\"pass_attempts_redzone\"] * 100, 2)\n",
    "qb_data[\"total_turnovers\"] =  qb_data[\"interception\"] + qb_data[\"fumble_lost\"]\n",
    "qb_data[\"shotgun_pct\"] = round(qb_data[\"shotgun\"] / qb_data[\"offense_snaps\"] *100, 2)\n",
    "qb_data[\"dropback_pct\"] = round(qb_data[\"qb_dropback\"] / qb_data[\"offense_snaps\"] *100, 2)\n",
    "qb_data[\"yards_per_att\"] = round(qb_data[\"passing_yards\"] / qb_data[\"pass_attempts\"], 2)\n",
    "qb_data[\"td_per_att\"] = round(qb_data[\"pass_touchdown\"] / qb_data[\"pass_attempts\"], 2)\n",
    "qb_data[\"air_yds_att\"] = round(qb_data[\"passing_air_yards\"] / qb_data[\"pass_attempts\"], 2)\n",
    "qb_data[\"yds_per_rush\"] = round(qb_data[\"rushing_yards\"] / qb_data[\"rush_attempts\"], 2)\n",
    "qb_data[\"offense_pct\"] = round(qb_data[\"offense_pct\"],2)\n"
   ],
   "id": "fea6bd52dc6437ee",
   "outputs": [],
   "execution_count": 6
  },
  {
   "metadata": {
    "ExecuteTime": {
     "end_time": "2025-09-08T20:31:37.784479Z",
     "start_time": "2025-09-08T20:31:37.778199Z"
    }
   },
   "cell_type": "code",
   "source": [
    "#QBR Formula\n",
    "a = ((qb_data[\"complete_pass\"] / qb_data[\"pass_attempts\"]) - 0.3) * 5\n",
    "b = ((qb_data[\"passing_yards\"] / qb_data[\"pass_attempts\"]) - 3) * 0.25\n",
    "c = (qb_data[\"pass_touchdown\"] / qb_data[\"pass_attempts\"]) * 20\n",
    "d = 2.375 - ((qb_data[\"interception\"] / qb_data[\"pass_attempts\"]) * 25)\n",
    "\n",
    "# Apply NFL bounds (0 to 2.375)\n",
    "a = a.clip(0, 2.375)\n",
    "b = b.clip(0, 2.375)\n",
    "c = c.clip(0, 2.375)\n",
    "d = d.clip(0, 2.375)\n",
    "\n",
    "# Final Passer Rating\n",
    "qb_data[\"passer_rating\"] = round(((a + b + c + d) / 6) * 100,2)"
   ],
   "id": "f38ccdac9daed46b",
   "outputs": [],
   "execution_count": 7
  },
  {
   "metadata": {
    "ExecuteTime": {
     "end_time": "2025-09-08T20:31:40.213949Z",
     "start_time": "2025-09-08T20:31:40.202767Z"
    }
   },
   "cell_type": "code",
   "source": [
    "#Export the cleaned up dataset into an Excel file for dashboard creation\n",
    "qb_data.to_csv(\"../cleandata/cleaned_qb_stats.csv\", index=False)"
   ],
   "id": "bd012e07f2c2ca7a",
   "outputs": [],
   "execution_count": 8
  },
  {
   "metadata": {
    "ExecuteTime": {
     "end_time": "2025-09-08T20:31:41.690735Z",
     "start_time": "2025-09-08T20:31:41.685003Z"
    }
   },
   "cell_type": "code",
   "source": [
    "#Confirm the data types before moving to postgresql\n",
    "qb_data.dtypes"
   ],
   "id": "6ad83b7cf6ba7c29",
   "outputs": [
    {
     "data": {
      "text/plain": [
       "player_id                  object\n",
       "player_name                object\n",
       "position                   object\n",
       "season                      int64\n",
       "season_type                object\n",
       "team                       object\n",
       "shotgun                     int64\n",
       "no_huddle                   int64\n",
       "qb_dropback                 int64\n",
       "qb_scramble                 int64\n",
       "pass_attempts               int64\n",
       "complete_pass               int64\n",
       "incomplete_pass             int64\n",
       "passing_yards               int64\n",
       "yards_after_catch           int64\n",
       "rush_attempts               int64\n",
       "rushing_yards               int64\n",
       "first_down_pass             int64\n",
       "first_down_rush             int64\n",
       "third_down_converted        int64\n",
       "third_down_failed           int64\n",
       "fourth_down_converted       int64\n",
       "fourth_down_failed          int64\n",
       "rush_touchdown              int64\n",
       "pass_touchdown              int64\n",
       "interception                int64\n",
       "fumble                      int64\n",
       "fumble_lost                 int64\n",
       "passing_air_yards           int64\n",
       "pass_attempts_redzone       int64\n",
       "complete_pass_redzone       int64\n",
       "pass_touchdown_redzone      int64\n",
       "pass_attempts_gtg           int64\n",
       "complete_pass_gtg           int64\n",
       "pass_touchdown_gtg          int64\n",
       "rush_attempts_gtg           int64\n",
       "rush_touchdown_gtg          int64\n",
       "offense_snaps               int64\n",
       "team_offense_snaps          int64\n",
       "total_tds                   int64\n",
       "touches                     int64\n",
       "total_yards                 int64\n",
       "offense_pct               float64\n",
       "games_played_season         int64\n",
       "completion_pct            float64\n",
       "td_to_int_ratio           float64\n",
       "red_zone_comp_pct         float64\n",
       "total_turnovers             int64\n",
       "shotgun_pct               float64\n",
       "dropback_pct              float64\n",
       "yards_per_att             float64\n",
       "td_per_att                float64\n",
       "air_yds_att               float64\n",
       "yds_per_rush              float64\n",
       "passer_rating             float64\n",
       "dtype: object"
      ]
     },
     "execution_count": 9,
     "metadata": {},
     "output_type": "execute_result"
    }
   ],
   "execution_count": 9
  },
  {
   "metadata": {},
   "cell_type": "markdown",
   "source": [
    "## **STEP 2**\n",
    "\n",
    "After exporting the cleaned-up data into a CSV file, you will move to a SQL platform, in this case PostgreSQL. First, create a database named \"qbstats\" (if you name it something else, please update dbname accordingly). Then, use the .sql files found in the sql folder to create the tables and views in that order.\n",
    "\n",
    "After completing that, return to Python to export the views into a single Excel workbook, with each view as a separate worksheet. This workbook will then be used for the analysis portion of the project.\n",
    "\n",
    "Please make sure your dbname, username, password, host, and port matches your systems."
   ],
   "id": "5208951683e09eb9"
  },
  {
   "metadata": {
    "ExecuteTime": {
     "end_time": "2025-09-08T20:50:32.912780Z",
     "start_time": "2025-09-08T20:50:32.870877Z"
    }
   },
   "cell_type": "code",
   "source": [
    "#Connects to my postgresql server to create an Excel file\n",
    "import psycopg2\n",
    "\n",
    "conn = psycopg2.connect(\n",
    "    dbname = \"qbstats\",\n",
    "    user = \"postgres\",\n",
    "    password = \"123\",\n",
    "    host = \"localhost\",\n",
    "    port = \"5432\",\n",
    ")"
   ],
   "id": "167f678a242b7634",
   "outputs": [],
   "execution_count": 10
  },
  {
   "metadata": {
    "ExecuteTime": {
     "end_time": "2025-09-08T20:50:35.182153Z",
     "start_time": "2025-09-08T20:50:35.179840Z"
    }
   },
   "cell_type": "code",
   "source": [
    "#List of views created in my qb_data_views.sql file\n",
    "views = [\n",
    "    \"top_30_pass_yards\",\n",
    "    \"avg_yards_season\",\n",
    "    \"top_30_passer_rating\",\n",
    "    \"avg_yds_thrown_downfield\",\n",
    "    \"top_30_total_yards\",\n",
    "    \"avg_qb_rush_yards_season\",\n",
    "    \"best_td_int_per_season\",\n",
    "    \"top_playoff_performers\"\n",
    "]"
   ],
   "id": "c5bfe4010e0a9f23",
   "outputs": [],
   "execution_count": 11
  },
  {
   "metadata": {
    "ExecuteTime": {
     "end_time": "2025-09-08T20:50:37.166453Z",
     "start_time": "2025-09-08T20:50:37.164517Z"
    }
   },
   "cell_type": "code",
   "source": [
    "#Name and location of the Excel Workbook\n",
    "excel_ready_data = \"../excel_ready_data/qb_data_created.xlsx\""
   ],
   "id": "4ee4fb4a0b9fa65",
   "outputs": [],
   "execution_count": 12
  },
  {
   "metadata": {
    "ExecuteTime": {
     "end_time": "2025-09-08T20:50:57.239525Z",
     "start_time": "2025-09-08T20:50:57.017915Z"
    }
   },
   "cell_type": "code",
   "source": [
    "#Might need to install openyxl for this code to work\n",
    "with pd.ExcelWriter(excel_ready_data, engine=\"openpyxl\") as writer:\n",
    "    for view in views:\n",
    "        df = pd.read_sql(f\"SELECT * FROM {view};\", conn)\n",
    "        df.to_excel(writer, sheet_name=view, index=False)"
   ],
   "id": "7400fd3d1aee0807",
   "outputs": [
    {
     "name": "stderr",
     "output_type": "stream",
     "text": [
      "C:\\Users\\Mike\\AppData\\Local\\Temp\\ipykernel_30160\\3164809761.py:3: UserWarning: pandas only supports SQLAlchemy connectable (engine/connection) or database string URI or sqlite3 DBAPI2 connection. Other DBAPI2 objects are not tested. Please consider using SQLAlchemy.\n",
      "  df = pd.read_sql(f\"SELECT * FROM {view};\", conn)\n"
     ]
    }
   ],
   "execution_count": 14
  }
 ],
 "metadata": {
  "kernelspec": {
   "display_name": "Python 3",
   "language": "python",
   "name": "python3"
  },
  "language_info": {
   "codemirror_mode": {
    "name": "ipython",
    "version": 2
   },
   "file_extension": ".py",
   "mimetype": "text/x-python",
   "name": "python",
   "nbconvert_exporter": "python",
   "pygments_lexer": "ipython2",
   "version": "2.7.6"
  }
 },
 "nbformat": 4,
 "nbformat_minor": 5
}
